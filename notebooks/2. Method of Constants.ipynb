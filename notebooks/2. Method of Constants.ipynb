{
 "cells": [
  {
   "cell_type": "code",
   "execution_count": null,
   "metadata": {},
   "outputs": [],
   "source": [
    "using Distributions, CairoMakie, Base.Threads, ColorSchemes, DrWatson\n",
    "@quickactivate \"PsychophysicsSimulations\"\n",
    "# scripts = (\"constant_stimulation.jl\", \"psycho_sim_utils.jl\")\n",
    "# [include(joinpath(\"..\", \"src\", x)) for x in scripts];"
   ]
  }
 ],
 "metadata": {
  "kernelspec": {
   "display_name": "Julia 1.9.1",
   "language": "julia",
   "name": "julia-1.9"
  },
  "language_info": {
   "file_extension": ".jl",
   "mimetype": "application/julia",
   "name": "julia",
   "version": "1.9.1"
  },
  "orig_nbformat": 4
 },
 "nbformat": 4,
 "nbformat_minor": 2
}
