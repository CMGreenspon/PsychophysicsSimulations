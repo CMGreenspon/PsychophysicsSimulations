{
 "cells": [
  {
   "cell_type": "markdown",
   "metadata": {},
   "source": [
    "# Psychometric methods for nerve stimulation\n",
    "## What is a psychometric function\n",
    "- Signal detection theory\n",
    "- Conversion from intensity distribution to detection/discriminability probability\n",
    "- Psychometric function for detection/discriminability\n",
    "\n",
    "## Detection thresholds\n",
    "### Optimizing the method of constants\n",
    "- Number of intensity samples\n",
    "- Proportion of distribution (in sigmas)\n",
    "- Number of repetitions per stimulus level\n",
    "- Maximum likelihood estimation vs sigmoid fitting (with/without bounds)\n",
    "\n",
    "### Optimizing transformed staircase\n",
    "- Convergence rate\n",
    "- Number of reversions, skip reversions\n",
    "- Start amplitude\n",
    "- MLE vs MLE (modified) vs averaging trials\n",
    "- Initial step size\n",
    "\n",
    "### Optimizing QUEST\n",
    "- Step size range\n",
    "- Modifying MLE for AFC\n",
    "\n",
    "### Optimizing PEST\n",
    "- Last value vs MLE\n",
    "- Wald trials & Wald factor\n",
    "- Initial step size\n",
    "\n",
    "### Evaluating distribution estimation as a number of trials for optimized methods\n",
    "- DT50/mu estimate as a function of the number of trials\n",
    "- JND/sigma estimate as a function of the number of trials\n",
    "\n",
    "## Applying these optimizations to amplitude discrimination\n",
    "Alternative implementations (example code) with each (optimized) method for amplitude discrimination.\n",
    "Current guess is that QUEST will be best?\n",
    "\n",
    "## Magnitude matching\n",
    "Same as above?\n",
    "\n",
    "## Summary of optimal methods for each goal"
   ]
  }
 ],
 "metadata": {
  "language_info": {
   "name": "python"
  },
  "orig_nbformat": 4
 },
 "nbformat": 4,
 "nbformat_minor": 2
}
