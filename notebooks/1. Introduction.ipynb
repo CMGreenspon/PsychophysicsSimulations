{
 "cells": [
  {
   "cell_type": "markdown",
   "metadata": {},
   "source": [
    "# Psychometric functions\n",
    "In psychophysics we tend to try and find the boundary between two barely distinguishable events. That might be the absence vs presence of a stimulus or the exact change in stimulus parameter required to observe a difference. Signal detection theory treats all events as distributions from which the intensity can be sampled at a given point in time. The practical consequence of this is that when the stimulus is delivered on two (or N) separate occasions two (or N) different events will be perceived - depending on the sample from the distribution. To contextualize this in standard psychophysical tasks, "
   ]
  },
  {
   "cell_type": "code",
   "execution_count": null,
   "metadata": {},
   "outputs": [],
   "source": []
  }
 ],
 "metadata": {
  "kernelspec": {
   "display_name": "Julia 1.9.1",
   "language": "julia",
   "name": "julia-1.9"
  },
  "language_info": {
   "file_extension": ".jl",
   "mimetype": "application/julia",
   "name": "julia",
   "version": "1.9.1"
  },
  "orig_nbformat": 4
 },
 "nbformat": 4,
 "nbformat_minor": 2
}
